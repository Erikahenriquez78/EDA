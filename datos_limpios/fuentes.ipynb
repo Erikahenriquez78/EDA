{
 "cells": [
  {
   "attachments": {},
   "cell_type": "markdown",
   "metadata": {},
   "source": [
    "evolucion de el precio de la vivienda españa...\n",
    "\n",
    "https://www.epdata.es/datos/indice-precios-vivienda-ipv-ine-evolucion-datos-graficos/82/espana/106?accion=2"
   ]
  },
  {
   "cell_type": "markdown",
   "metadata": {},
   "source": [
    "realadvisor ...\n",
    "\n",
    "'https://realadvisor.es/es/precios-viviendas/municipio-coslada'"
   ]
  },
  {
   "cell_type": "markdown",
   "metadata": {},
   "source": [
    "evolucion de el salario minimo interprofecional\n",
    "https://www.epdata.es/evolucion-salario-minimo/eba8ae95-9e55-46b9-8aa0-b38abc771a61"
   ]
  },
  {
   "attachments": {},
   "cell_type": "markdown",
   "metadata": {},
   "source": [
    "Evolución de la compraventa de viviendas en Comunidad de Madrid, según el INE\n",
    "Viviendas (Unidades)\n",
    "\n",
    "https://www.epdata.es/datos/precios-casas-compra-venta-viviendas-datos-graficos-comunidades-autonomas/40/madrid/304"
   ]
  },
  {
   "cell_type": "markdown",
   "metadata": {},
   "source": [
    "datos europa.eu\n",
    "https://data.europa.eu/es"
   ]
  }
 ],
 "metadata": {
  "kernelspec": {
   "display_name": "Python 3",
   "language": "python",
   "name": "python3"
  },
  "language_info": {
   "codemirror_mode": {
    "name": "ipython",
    "version": 3
   },
   "file_extension": ".py",
   "mimetype": "text/x-python",
   "name": "python",
   "nbconvert_exporter": "python",
   "pygments_lexer": "ipython3",
   "version": "3.10.11"
  },
  "orig_nbformat": 4
 },
 "nbformat": 4,
 "nbformat_minor": 2
}

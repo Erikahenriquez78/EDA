{
 "cells": [
  {
   "attachments": {},
   "cell_type": "markdown",
   "metadata": {},
   "source": [
    "### evolucion de los precios en europa\n",
    "\n",
    "En el gráfico de barras que muestra la diferencia de precios entre 2022 y 2010 por país, podemos observar la evolución y disminución de los precios en Europa durante ese período.\n",
    "\n",
    "Al analizar el gráfico, podemos destacar los siguientes puntos:\n",
    "\n",
    "Algunos países presentan un aumento significativo en los precios, lo que indica un crecimiento económico en esos lugares. Estos países pueden representar oportunidades de inversión o mercados en expansión.\n",
    "\n",
    "Por otro lado, algunos países muestran una disminución en los precios, lo que podría indicar una contracción económica o desafíos económicos internos. Estos países pueden requerir un análisis más profundo para comprender las razones detrás de la disminución de los precios.\n",
    "\n",
    "También podemos identificar países que muestran una estabilidad en los precios, con una diferencia cercana a cero. Estos países pueden tener una economía más estable o una inflación controlada.\n",
    "España a tenido su precio minimo de 96.24  en 2013 y su maximo en 2022 con 141.98 como promedio anual\n",
    "\n",
    "En general, el gráfico nos brinda una perspectiva visual de cómo han fluctuado los precios en los diferentes países de Europa entre 2022 y 2010. Esta información puede ser útil para identificar patrones económicos, tendencias de mercado y posibles oportunidades de inversión en la región."
   ]
  },
  {
   "attachments": {},
   "cell_type": "markdown",
   "metadata": {},
   "source": [
    "## ocupacion en españa\n",
    "\n",
    "Tengo los datos de la ocupacion en españa de el año 2002 hasta el 2023 donde podemos ver que los valores minimos son el año 2002 con 16.482.4 en el primer trimestre y los maximos 2022 con 20.545,8 en el tercer trimestre\n",
    "\n",
    "La columna \"Año\" representa el año correspondiente a las ocupaciones registradas.\n",
    "La columna \"Periodo\" indica el periodo al que se refiere cada dato, como \"Trimestre 1\", \"Trimestre 2\", etc.\n",
    "La columna \"Personas ocupadas\" contiene el número de personas ocupadas en cada periodo registrado"
   ]
  },
  {
   "attachments": {},
   "cell_type": "markdown",
   "metadata": {},
   "source": [
    "## variacion anual con la viviendas de segunda mano y nuevas\n",
    " \n",
    "Cada fila del DataFrame representa un conjunto de datos para un año\n",
    "y trimestre específico. Por ejemplo, la primera fila indica que en el año 2008,\n",
    "Trimestre 1, el precio de la vivienda nueva experimentó un aumento del 7,15% y el precio\n",
    "de la vivienda de segunda mano experimentó una disminución del 0,65%\n",
    "\n",
    "\n",
    "Datos estadísticos:\n",
    "Media Vivienda nueva: 1.3678333333333332\n",
    "Media Vivienda de segunda mano: -0.8973333333333332\n",
    "Mínimo Vivienda nueva: -13.59\n",
    "Mínimo Vivienda de segunda mano: -16.36\n",
    "Máximo Vivienda nueva: 10.35\n",
    "Máximo Vivienda de segunda mano: 8.21"
   ]
  },
  {
   "attachments": {},
   "cell_type": "markdown",
   "metadata": {},
   "source": [
    "## salario minimo interprofesional en españa\n",
    "el salario mínimo interprofesional en euros a lo largo de diferentes años. Tiene las siguientes columnas:\n",
    "\n",
    "Año: Representa el año en el que se estableció el salario mínimo interprofesional.\n",
    "Periodo: Indica el período de tiempo al que se refiere el salario mínimo interprofesional. En este caso, todos los valores son \"Año\", lo que indica que el salario mínimo se estableció para todo el año.\n",
    "Salario mínimo interprofesional (€): Es el valor del salario mínimo interprofesional en euros para el año correspondiente.\n",
    "Por ejemplo, en la primera fila del DataFrame, el salario mínimo interprofesional para el año 1980 fue de 136.85 euros.\n",
    "\n",
    "Este DataFrame permite analizar la evolución del salario mínimo interprofesional a lo largo de los años y realizar estudios comparativos sobre su crecimiento y ajustes en diferentes períodos de tiempo.\n",
    "\n"
   ]
  },
  {
   "attachments": {},
   "cell_type": "markdown",
   "metadata": {},
   "source": [
    "## enlace de github\n",
    "[EDA](https://github.com/Erikahenriquez78/EDA.git)\n"
   ]
  }
 ],
 "metadata": {
  "language_info": {
   "name": "python"
  },
  "orig_nbformat": 4
 },
 "nbformat": 4,
 "nbformat_minor": 2
}
